{
 "cells": [
  {
   "cell_type": "code",
   "execution_count": null,
   "metadata": {},
   "outputs": [],
   "source": []
  },
  {
   "cell_type": "code",
   "execution_count": 6,
   "metadata": {},
   "outputs": [
    {
     "name": "stdout",
     "output_type": "stream",
     "text": [
      "<_io.TextIOWrapper name='./08archivos.txt' mode='r' encoding='cp1252'>\n",
      "<class '_io.TextIOWrapper'>\n",
      "['Buenas nochesBuenas diasBuenas tardesBuenas tardes\\n']\n",
      "<class 'list'>\n",
      "Buenas nochesBuenas diasBuenas tardesBuenas tardes\n",
      "\n"
     ]
    }
   ],
   "source": [
    "try:\n",
    "    path = './08archivos.txt'\n",
    "    archivo_abierto = open(path)\n",
    "    print(archivo_abierto)\n",
    "    print(type(archivo_abierto))\n",
    "    #linea_leida_uno = archivo_abierto.readline()\n",
    "    #print(linea_leida)\n",
    "    #print(type(linea_leida))\n",
    "    \n",
    "    #linea_leida_dos =a archivo_abierto.readline()\n",
    "    #print(linea_leida_dos)\n",
    "    #print(type(linea_leida_dos))\n",
    "    \n",
    "    lineas_archivo = archivo_abierto.readlines()\n",
    "    \n",
    "    print(lineas_archivo)\n",
    "    print(type(lineas_archivo))\n",
    "    \n",
    "    for linea in lineas_archivo:\n",
    "        print(linea)\n",
    "    \n",
    "except:\n",
    "    print('Error leyendo archivo')\n",
    "    "
   ]
  },
  {
   "cell_type": "code",
   "execution_count": 11,
   "metadata": {},
   "outputs": [
    {
     "name": "stdout",
     "output_type": "stream",
     "text": [
      "Error leyendo archivo\n"
     ]
    }
   ],
   "source": [
    "try:\n",
    "    path = './08archivos.txt'\n",
    "    archivo_escritura_abierto = open(path,mode='a')\n",
    "    #a->Append y anade el contenido al final\n",
    "    #w->Sobre escribe el contenido\n",
    "    archivo_escritura_abierto.write('Buena noche\\n')#Sobre escribe el contenido\n",
    "    archivo_escritura_abierto.writelines('Hola\\n','Mundo\\n')\n",
    "    archivo_escritura_abierto.close()\n",
    "except:\n",
    "    print('Error leyendo archivo')"
   ]
  },
  {
   "cell_type": "code",
   "execution_count": null,
   "metadata": {},
   "outputs": [],
   "source": []
  },
  {
   "cell_type": "code",
   "execution_count": null,
   "metadata": {},
   "outputs": [],
   "source": []
  }
 ],
 "metadata": {
  "kernelspec": {
   "display_name": "Python 3",
   "language": "python",
   "name": "python3"
  },
  "language_info": {
   "codemirror_mode": {
    "name": "ipython",
    "version": 3
   },
   "file_extension": ".py",
   "mimetype": "text/x-python",
   "name": "python",
   "nbconvert_exporter": "python",
   "pygments_lexer": "ipython3",
   "version": "3.7.3"
  }
 },
 "nbformat": 4,
 "nbformat_minor": 2
}
