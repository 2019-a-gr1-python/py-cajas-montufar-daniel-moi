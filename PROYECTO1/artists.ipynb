{
 "cells": [
  {
   "cell_type": "code",
   "execution_count": 1,
   "metadata": {},
   "outputs": [],
   "source": [
    "def crear_autor():\n",
    "    print(\"Nuevo autor\")\n",
    "    code1 = input (\"Ingrese un id\")\n",
    "    name1 = input (\"Ingrese un nombre del autor\")\n",
    "    manejo_archivos.agregar_a_archivo('./artists.txt', 'a', artist)"
   ]
  },
  {
   "cell_type": "code",
   "execution_count": 2,
   "metadata": {},
   "outputs": [],
   "source": [
    "def obtener_lista_artistas():\n",
    "    archivo_artists = manejo_archivos.leer_archivos('./artists.txt')\n",
    "    artistas = []\n",
    "    for cadena in archivo_artists:\n",
    "        artists.append(transformaciones.transformar_cadenatexto_a_diccionariomusica(cadena))\n",
    "    return artistas"
   ]
  },
  {
   "cell_type": "code",
   "execution_count": null,
   "metadata": {},
   "outputs": [],
   "source": []
  }
 ],
 "metadata": {
  "kernelspec": {
   "display_name": "Python 3",
   "language": "python",
   "name": "python3"
  },
  "language_info": {
   "codemirror_mode": {
    "name": "ipython",
    "version": 3
   },
   "file_extension": ".py",
   "mimetype": "text/x-python",
   "name": "python",
   "nbconvert_exporter": "python",
   "pygments_lexer": "ipython3",
   "version": "3.7.3"
  }
 },
 "nbformat": 4,
 "nbformat_minor": 2
}
