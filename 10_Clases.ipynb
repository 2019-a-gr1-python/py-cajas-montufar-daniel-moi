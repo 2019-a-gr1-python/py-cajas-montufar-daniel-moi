{
 "cells": [
  {
   "cell_type": "markdown",
   "metadata": {},
   "source": [
    "# Clases"
   ]
  },
  {
   "cell_type": "code",
   "execution_count": 1,
   "metadata": {},
   "outputs": [],
   "source": [
    "class Nada:\n",
    "    pass"
   ]
  },
  {
   "cell_type": "code",
   "execution_count": 2,
   "metadata": {},
   "outputs": [],
   "source": [
    "una_nada = Nada()\n"
   ]
  },
  {
   "cell_type": "code",
   "execution_count": 3,
   "metadata": {},
   "outputs": [
    {
     "name": "stdout",
     "output_type": "stream",
     "text": [
      "<__main__.Nada object at 0x10bccefd0>\n"
     ]
    }
   ],
   "source": [
    "print (una_nada)"
   ]
  },
  {
   "cell_type": "code",
   "execution_count": 4,
   "metadata": {},
   "outputs": [
    {
     "name": "stdout",
     "output_type": "stream",
     "text": [
      "<class '__main__.Nada'>\n"
     ]
    }
   ],
   "source": [
    "print(type(una_nada))"
   ]
  },
  {
   "cell_type": "code",
   "execution_count": 22,
   "metadata": {},
   "outputs": [],
   "source": [
    "class Auto:\n",
    "    color ='negro'#Propiedades publicas\n",
    "    placa ='' #Propiedades Privadas\n",
    "    __numero_calculo = 1024 #Propiedades publicas\n",
    "    \n",
    "    def _init_(self, placa):#Constructor\n",
    "        print('Estamos inicializando el Auto')\n",
    "        self.placa = placa\n",
    "        \n",
    "    def _str_(self): #OVERRIDE->Devuelve un 'str'\n",
    "        return f'Color: {self.color}\\n' + f'Placa: {self.placa}'\n",
    "    \n",
    "    def calcular_impuesto(self, anio): #Metodo publico\n",
    "        total_a_pagar = self.__calculo(anio)\n",
    "        print(f'Su impuesto a pagar es: {total_a_pagar}')\n",
    "        return total_a_pagar\n",
    "        \n",
    "    def __calculo(self,anio): #Metodo privado\n",
    "        return (anio / 2) + self.__numero_calculo"
   ]
  },
  {
   "cell_type": "code",
   "execution_count": 23,
   "metadata": {},
   "outputs": [
    {
     "ename": "TypeError",
     "evalue": "Auto() takes no arguments",
     "output_type": "error",
     "traceback": [
      "\u001b[0;31m---------------------------------------------------------------------------\u001b[0m",
      "\u001b[0;31mTypeError\u001b[0m                                 Traceback (most recent call last)",
      "\u001b[0;32m<ipython-input-23-de8c1ae281d4>\u001b[0m in \u001b[0;36m<module>\u001b[0;34m\u001b[0m\n\u001b[0;32m----> 1\u001b[0;31m \u001b[0mcoche\u001b[0m \u001b[0;34m=\u001b[0m \u001b[0mAuto\u001b[0m\u001b[0;34m(\u001b[0m\u001b[0;34m'PIK-1234'\u001b[0m\u001b[0;34m)\u001b[0m\u001b[0;34m\u001b[0m\u001b[0;34m\u001b[0m\u001b[0m\n\u001b[0m",
      "\u001b[0;31mTypeError\u001b[0m: Auto() takes no arguments"
     ]
    }
   ],
   "source": [
    "coche = Auto('PIK-1234')"
   ]
  },
  {
   "cell_type": "code",
   "execution_count": 24,
   "metadata": {},
   "outputs": [
    {
     "data": {
      "text/plain": [
       "'negro'"
      ]
     },
     "execution_count": 24,
     "metadata": {},
     "output_type": "execute_result"
    }
   ],
   "source": [
    "coche.color"
   ]
  },
  {
   "cell_type": "code",
   "execution_count": 25,
   "metadata": {},
   "outputs": [
    {
     "data": {
      "text/plain": [
       "''"
      ]
     },
     "execution_count": 25,
     "metadata": {},
     "output_type": "execute_result"
    }
   ],
   "source": [
    "coche.placa\n"
   ]
  },
  {
   "cell_type": "code",
   "execution_count": 29,
   "metadata": {},
   "outputs": [
    {
     "ename": "SyntaxError",
     "evalue": "invalid syntax (<ipython-input-29-b6b1763218c9>, line 3)",
     "output_type": "error",
     "traceback": [
      "\u001b[0;36m  File \u001b[0;32m\"<ipython-input-29-b6b1763218c9>\"\u001b[0;36m, line \u001b[0;32m3\u001b[0m\n\u001b[0;31m    def_str_(self):\u001b[0m\n\u001b[0m                   ^\u001b[0m\n\u001b[0;31mSyntaxError\u001b[0m\u001b[0;31m:\u001b[0m invalid syntax\n"
     ]
    }
   ],
   "source": [
    "class BMW(Auto):\n",
    "    hp_motor = 5000\n",
    "    def__str__(self):\n",
    "        self.calculo(9999)\n",
    "        \n",
    "        return f'Color:{self.Color}\\nPlaca: {self.placa}\\nHP Motor: {self.hp_motor}'"
   ]
  },
  {
   "cell_type": "code",
   "execution_count": 28,
   "metadata": {},
   "outputs": [
    {
     "ename": "TypeError",
     "evalue": "BMW() takes no arguments",
     "output_type": "error",
     "traceback": [
      "\u001b[0;31m---------------------------------------------------------------------------\u001b[0m",
      "\u001b[0;31mTypeError\u001b[0m                                 Traceback (most recent call last)",
      "\u001b[0;32m<ipython-input-28-abb5bfdadac4>\u001b[0m in \u001b[0;36m<module>\u001b[0;34m\u001b[0m\n\u001b[0;32m----> 1\u001b[0;31m \u001b[0mnuevo_bmw\u001b[0m \u001b[0;34m=\u001b[0m\u001b[0mBMW\u001b[0m\u001b[0;34m(\u001b[0m\u001b[0;34m'PHC-4433'\u001b[0m\u001b[0;34m)\u001b[0m\u001b[0;34m\u001b[0m\u001b[0;34m\u001b[0m\u001b[0m\n\u001b[0m",
      "\u001b[0;31mTypeError\u001b[0m: BMW() takes no arguments"
     ]
    }
   ],
   "source": [
    "nuevo_bmw =BMW('PHC-4433')"
   ]
  },
  {
   "cell_type": "code",
   "execution_count": 30,
   "metadata": {},
   "outputs": [
    {
     "name": "stdout",
     "output_type": "stream",
     "text": [
      "<__main__.BMW object at 0x10beda940>\n"
     ]
    }
   ],
   "source": [
    "print(nuevo_bmw)"
   ]
  },
  {
   "cell_type": "code",
   "execution_count": null,
   "metadata": {},
   "outputs": [],
   "source": []
  }
 ],
 "metadata": {
  "kernelspec": {
   "display_name": "Python 3",
   "language": "python",
   "name": "python3"
  },
  "language_info": {
   "codemirror_mode": {
    "name": "ipython",
    "version": 3
   },
   "file_extension": ".py",
   "mimetype": "text/x-python",
   "name": "python",
   "nbconvert_exporter": "python",
   "pygments_lexer": "ipython3",
   "version": "3.7.3"
  }
 },
 "nbformat": 4,
 "nbformat_minor": 2
}
