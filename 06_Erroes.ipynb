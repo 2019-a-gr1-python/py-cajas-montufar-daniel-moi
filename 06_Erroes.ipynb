{
 "cells": [
  {
   "cell_type": "markdown",
   "metadata": {},
   "source": [
    "# ERRORES"
   ]
  },
  {
   "cell_type": "code",
   "execution_count": 1,
   "metadata": {},
   "outputs": [],
   "source": [
    "daniel = {\n",
    "    'nombre':'Daniel'\n",
    "}"
   ]
  },
  {
   "cell_type": "code",
   "execution_count": 3,
   "metadata": {},
   "outputs": [],
   "source": [
    "# daniel ['asd'] #Key Error\n",
    "# ++ SyntaxError\n",
    "# asd.as # NameError\n",
    "#\"1\"+1 #TypeError"
   ]
  },
  {
   "cell_type": "code",
   "execution_count": 10,
   "metadata": {},
   "outputs": [
    {
     "ename": "SyntaxError",
     "evalue": "invalid syntax (<ipython-input-10-f566eaaa8fe8>, line 4)",
     "output_type": "error",
     "traceback": [
      "\u001b[0;36m  File \u001b[0;32m\"<ipython-input-10-f566eaaa8fe8>\"\u001b[0;36m, line \u001b[0;32m4\u001b[0m\n\u001b[0;31m    excep (NameError) as nameError:\u001b[0m\n\u001b[0m                       ^\u001b[0m\n\u001b[0;31mSyntaxError\u001b[0m\u001b[0;31m:\u001b[0m invalid syntax\n"
     ]
    }
   ],
   "source": [
    "try:\n",
    "    print(daniel['asd'])\n",
    "    asd.asd\n",
    "    except (NameError) as nameError:\n",
    "        print(f\"Error:{nameError}NAME ERROR\")\n",
    "    except (TypeError, KeyError) as typeError:    \n",
    "        print(f\"Error:{typeError}TYPE ERROR\")\n",
    "    except TypeError as typeError:  \n",
    "                        \n",
    "\n",
    "\n",
    "        "
   ]
  },
  {
   "cell_type": "code",
   "execution_count": null,
   "metadata": {},
   "outputs": [],
   "source": []
  }
 ],
 "metadata": {
  "kernelspec": {
   "display_name": "Python 3",
   "language": "python",
   "name": "python3"
  },
  "language_info": {
   "codemirror_mode": {
    "name": "ipython",
    "version": 3
   },
   "file_extension": ".py",
   "mimetype": "text/x-python",
   "name": "python",
   "nbconvert_exporter": "python",
   "pygments_lexer": "ipython3",
   "version": "3.7.1"
  }
 },
 "nbformat": 4,
 "nbformat_minor": 2
}
