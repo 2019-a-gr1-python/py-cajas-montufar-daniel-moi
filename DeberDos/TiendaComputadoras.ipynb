{
 "cells": [
  {
   "cell_type": "markdown",
   "metadata": {},
   "source": [
    "# Tienda de Computadores"
   ]
  },
  {
   "cell_type": "markdown",
   "metadata": {},
   "source": [
    "La empresa CompuTienda se encarga de la fabricación de equipos electrónicos en los siguientes modelos: Computadores de escritorio, Computadores portátiles, impresoras."
   ]
  },
  {
   "cell_type": "markdown",
   "metadata": {},
   "source": [
    "La producción mensual en la empresa ha sido catalogada de la siguiente manera.\n",
    "Equipos de alta calidad (A)\n",
    "Equipos de mediana calidad (B)\n",
    "Equipos económicos (C)\n",
    "Cada mes el reporte de ventas indica que se vendió lo siguiente:\n",
    "52 Impresoras de(C)\n",
    "69 Computadores Portátiles de(C)\n",
    "45 Computadores de Ecritorio de(C)\n",
    "35 Impresoras de (B)\n",
    "50 Computadores Portátiles de (B)\n",
    "28 Computadores de Escritorio de(B)}\n",
    "19 Impresoras de (A)\n",
    "23 Computadores Portátiles de(A)\n",
    "15 Computadores de Escritorio de (A)"
   ]
  },
  {
   "cell_type": "markdown",
   "metadata": {},
   "source": [
    "1)Colocar el logo de la empresa"
   ]
  },
  {
   "cell_type": "code",
   "execution_count": 7,
   "metadata": {},
   "outputs": [],
   "source": [
    "import numpy as np"
   ]
  },
  {
   "cell_type": "code",
   "execution_count": 49,
   "metadata": {},
   "outputs": [],
   "source": [
    "from PIL import Image\n",
    "imagen = Image.open(\"./Computador.png\")\n",
    "imagen.show()"
   ]
  },
  {
   "cell_type": "markdown",
   "metadata": {},
   "source": [
    "2)Girar la imagen a 90 grados"
   ]
  },
  {
   "cell_type": "code",
   "execution_count": 36,
   "metadata": {},
   "outputs": [],
   "source": [
    "from PIL import Image\n",
    "imagen = Image.open(\"./Computador.png\")\n",
    "imagenrotate = imagen.rotate(-90)\n",
    "imagenrotate.show()"
   ]
  },
  {
   "cell_type": "markdown",
   "metadata": {},
   "source": [
    "3)Colocar el slogan de la empresa"
   ]
  },
  {
   "cell_type": "code",
   "execution_count": 74,
   "metadata": {},
   "outputs": [],
   "source": [
    "from PIL import Image\n",
    "from PIL import ImageDraw\n",
    "from PIL import ImageFont\n",
    "imagen = Image.open(\"./Computador.png\")\n",
    "draw = ImageDraw.Draw(imagen)\n",
    "font = ImageFont.truetype(\"verdana.ttf\",40)\n",
    "draw.text((0.1,0.1), \"La mejor tecnología al mejor precio\", fill = \"black\", font =font)\n",
    "imagen.show()"
   ]
  },
  {
   "cell_type": "markdown",
   "metadata": {},
   "source": [
    "4)Representación del problema en matriz"
   ]
  },
  {
   "cell_type": "markdown",
   "metadata": {},
   "source": [
    "En el eje i se representan los dispositivos electrónicos y en el eje j calidad"
   ]
  },
  {
   "cell_type": "code",
   "execution_count": 133,
   "metadata": {},
   "outputs": [
    {
     "name": "stdout",
     "output_type": "stream",
     "text": [
      "[[52 69 45]\n",
      " [35 50 28]\n",
      " [19 23 15]]\n"
     ]
    }
   ],
   "source": [
    "produccion_mensual = np.array([52,69,45,35,50,28,19,23,15]).reshape(3,3)\n",
    "print(produccion_mensual)"
   ]
  },
  {
   "cell_type": "markdown",
   "metadata": {},
   "source": [
    "5)Calculo de la producción semestral y anual"
   ]
  },
  {
   "cell_type": "code",
   "execution_count": 134,
   "metadata": {},
   "outputs": [
    {
     "name": "stdout",
     "output_type": "stream",
     "text": [
      "La produccion semestral es:\n",
      "[[312 414 270]\n",
      " [210 300 168]\n",
      " [114 138  90]]\n",
      "\n",
      "\n",
      "La produccion anual es:\n",
      "[[624 828 540]\n",
      " [420 600 336]\n",
      " [228 276 180]]\n"
     ]
    }
   ],
   "source": [
    "produccion_semestral = produccion_mensual * 6 #Producción Semestral\n",
    "print(f\"La produccion semestral es:\\n{produccion_semestral}\")\n",
    "print(\"\\n\")\n",
    "produccion_anual = produccion_mensual * 12  #Producción Anual\n",
    "print(f\"La produccion anual es:\\n{produccion_anual}\")"
   ]
  },
  {
   "cell_type": "markdown",
   "metadata": {},
   "source": [
    "6)Los precios de los productos son los siguientes. Impresora(C) 150 dólares, Computadores portátiles(C) 450 dólares, computadores de escritorio(C) 7500 dólares. Los precios de los productos restantes se Aumentan según la calidad en 900 dólares."
   ]
  },
  {
   "cell_type": "code",
   "execution_count": 135,
   "metadata": {},
   "outputs": [
    {
     "name": "stdout",
     "output_type": "stream",
     "text": [
      "[[ 150 1050 1950]\n",
      " [ 450 1350 2250]\n",
      " [ 750 1650 2550]]\n"
     ]
    }
   ],
   "source": [
    "precios = np.arange(9)\n",
    "for i in np.nditer(precios, order=\"F\", op_flags=[\"readwrite\"]):\n",
    "    i[...] = ((i%1 + 1) * 300) * (i + 0.5)\n",
    "precios = precios.reshape((3,3)).T\n",
    "print(precios)"
   ]
  },
  {
   "cell_type": "markdown",
   "metadata": {},
   "source": [
    "7)Calcular la venta anual de acuerdo a la producción anual"
   ]
  },
  {
   "cell_type": "code",
   "execution_count": 136,
   "metadata": {},
   "outputs": [
    {
     "name": "stdout",
     "output_type": "stream",
     "text": [
      "[[  93600  869400 1053000]\n",
      " [ 189000  810000  756000]\n",
      " [ 171000  455400  459000]]\n"
     ]
    }
   ],
   "source": [
    "ventas_anual = produccion_anual * precios\n",
    "print(ventas_anual)"
   ]
  },
  {
   "cell_type": "markdown",
   "metadata": {},
   "source": [
    "8)Calcular venta total anual"
   ]
  },
  {
   "cell_type": "code",
   "execution_count": 137,
   "metadata": {},
   "outputs": [
    {
     "name": "stdout",
     "output_type": "stream",
     "text": [
      "4856400\n"
     ]
    }
   ],
   "source": [
    "print(ventas_anual.sum())"
   ]
  },
  {
   "cell_type": "markdown",
   "metadata": {},
   "source": [
    "9)Calcular el promedio de comprar computador, laptop e impresora de A, de B y de C"
   ]
  },
  {
   "cell_type": "code",
   "execution_count": 141,
   "metadata": {},
   "outputs": [
    {
     "name": "stdout",
     "output_type": "stream",
     "text": [
      "[ 450. 1350. 2250.]\n"
     ]
    }
   ],
   "source": [
    "print(np.mean(precios, axis=0))"
   ]
  },
  {
   "cell_type": "markdown",
   "metadata": {},
   "source": [
    "9)Calcular la mediana de comprar computador, laptop e impresora de A, de B y de C"
   ]
  },
  {
   "cell_type": "code",
   "execution_count": 142,
   "metadata": {},
   "outputs": [
    {
     "name": "stdout",
     "output_type": "stream",
     "text": [
      "[ 450. 1350. 2250.]\n"
     ]
    }
   ],
   "source": [
    "print(np.median(precios, axis=0))"
   ]
  },
  {
   "cell_type": "markdown",
   "metadata": {},
   "source": [
    "10)Desviacion Estandar "
   ]
  },
  {
   "cell_type": "code",
   "execution_count": 143,
   "metadata": {},
   "outputs": [
    {
     "name": "stdout",
     "output_type": "stream",
     "text": [
      "[244.94897428 244.94897428 244.94897428]\n"
     ]
    }
   ],
   "source": [
    "print(np.std(precios, axis=0))"
   ]
  },
  {
   "cell_type": "markdown",
   "metadata": {},
   "source": [
    "11 Varianza"
   ]
  },
  {
   "cell_type": "code",
   "execution_count": 144,
   "metadata": {},
   "outputs": [
    {
     "name": "stdout",
     "output_type": "stream",
     "text": [
      "[60000. 60000. 60000.]\n"
     ]
    }
   ],
   "source": [
    "print(np.var(precios, axis=0))"
   ]
  },
  {
   "cell_type": "markdown",
   "metadata": {},
   "source": [
    "# Ejercicio con sen "
   ]
  },
  {
   "cell_type": "markdown",
   "metadata": {},
   "source": [
    "Se tiene el siguiente triángulo. Hallar las variables restantes."
   ]
  },
  {
   "cell_type": "code",
   "execution_count": 150,
   "metadata": {},
   "outputs": [],
   "source": [
    "from PIL import Image\n",
    "imagen = Image.open(\"./Triangulo.png\")\n",
    "imagen.show()"
   ]
  },
  {
   "cell_type": "markdown",
   "metadata": {},
   "source": [
    "1)Calculo de c(hipotenusa)"
   ]
  },
  {
   "cell_type": "code",
   "execution_count": 155,
   "metadata": {},
   "outputs": [
    {
     "name": "stdout",
     "output_type": "stream",
     "text": [
      "El valor de la hipotenusa es:\n",
      "30.479501308256342\n"
     ]
    }
   ],
   "source": [
    "import math\n",
    "altura = 20\n",
    "base = 23 \n",
    "c = math.sqrt(((20)**2) + ((23)**2))\n",
    "print(f\"El valor de la hipotenusa es:\\n{c}\")"
   ]
  },
  {
   "cell_type": "markdown",
   "metadata": {},
   "source": [
    "2)Calculo del ángulo alfa"
   ]
  },
  {
   "cell_type": "code",
   "execution_count": 167,
   "metadata": {},
   "outputs": [
    {
     "name": "stdout",
     "output_type": "stream",
     "text": [
      "El valor del angulo alfa es:\n",
      "41.00908690157022\n"
     ]
    }
   ],
   "source": [
    "angulo_alfa = math.asin((20/c))\n",
    "angulo_alfa_grados = math.degrees(angulo_alfa) \n",
    "print(f\"El valor del angulo alfa es:\\n{angulo_alfa_grados}\")"
   ]
  },
  {
   "cell_type": "markdown",
   "metadata": {},
   "source": [
    "3)Calculo del angulo restante"
   ]
  },
  {
   "cell_type": "code",
   "execution_count": 169,
   "metadata": {},
   "outputs": [
    {
     "name": "stdout",
     "output_type": "stream",
     "text": [
      "El valor del angulo restante es:\n",
      "48.99091309842978\n"
     ]
    }
   ],
   "source": [
    "angulo_restante = 180-90-angulo_alfa_grados\n",
    "print(f\"El valor del angulo restante es:\\n{angulo_restante}\")"
   ]
  },
  {
   "cell_type": "markdown",
   "metadata": {},
   "source": [
    "4)Imagen de Resultados"
   ]
  },
  {
   "cell_type": "code",
   "execution_count": 170,
   "metadata": {},
   "outputs": [],
   "source": [
    "from PIL import Image\n",
    "imagen = Image.open(\"./Triangulo_completo.png\")\n",
    "imagen.show()"
   ]
  },
  {
   "cell_type": "code",
   "execution_count": null,
   "metadata": {},
   "outputs": [],
   "source": []
  }
 ],
 "metadata": {
  "kernelspec": {
   "display_name": "Python 3",
   "language": "python",
   "name": "python3"
  },
  "language_info": {
   "codemirror_mode": {
    "name": "ipython",
    "version": 3
   },
   "file_extension": ".py",
   "mimetype": "text/x-python",
   "name": "python",
   "nbconvert_exporter": "python",
   "pygments_lexer": "ipython3",
   "version": "3.7.3"
  }
 },
 "nbformat": 4,
 "nbformat_minor": 2
}
