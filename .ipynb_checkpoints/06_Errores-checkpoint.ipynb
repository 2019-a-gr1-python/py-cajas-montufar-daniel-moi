{
 "cells": [
  {
   "cell_type": "markdown",
   "metadata": {},
   "source": [
    "# Errores"
   ]
  },
  {
   "cell_type": "code",
   "execution_count": 1,
   "metadata": {},
   "outputs": [],
   "source": [
    "daniel = {\n",
    "    'nombre':'Daniel'\n",
    "}"
   ]
  },
  {
   "cell_type": "code",
   "execution_count": 1,
   "metadata": {},
   "outputs": [],
   "source": [
    "# daniel ['asd'] #Key Error\n",
    "# ++ # SyntaxError\n",
    "# asd.asd # NameError\n",
    "#\"1\"+1 #TypeError"
   ]
  },
  {
   "cell_type": "code",
   "execution_count": 10,
   "metadata": {},
   "outputs": [
    {
     "name": "stdout",
     "output_type": "stream",
     "text": [
      "Error: name 'daniel' is not defined NAME ERROR\n"
     ]
    }
   ],
   "source": [
    "try:\n",
    "    print(daniel['nombre'])\n",
    "    \"1\"+1\n",
    "    asd.asd\n",
    "except NameError as nameError:\n",
    "        print(f\"Error: {nameError} NAME ERROR\")\n",
    "except TypeError as nameError:    \n",
    "        print(f\"Error: {nameError} TYPE ERROR\")\n",
    "except KeyError as nameError:\n",
    "        print(f\"Error: {nameError} KEY ERROR\")\n",
    "except Exception as error:\n",
    "        print(f\"Error: {error} KEY ERROR\")\n",
    "        print(f\"Traceback: {error.__traceback__}\")\n",
    "                        "
   ]
  },
  {
   "cell_type": "code",
   "execution_count": null,
   "metadata": {},
   "outputs": [],
   "source": [
    "\n",
    "        "
   ]
  },
  {
   "cell_type": "code",
   "execution_count": null,
   "metadata": {},
   "outputs": [],
   "source": []
  }
 ],
 "metadata": {
  "kernelspec": {
   "display_name": "Python 3",
   "language": "python",
   "name": "python3"
  },
  "language_info": {
   "codemirror_mode": {
    "name": "ipython",
    "version": 3
   },
   "file_extension": ".py",
   "mimetype": "text/x-python",
   "name": "python",
   "nbconvert_exporter": "python",
   "pygments_lexer": "ipython3",
   "version": "3.7.3"
  }
 },
 "nbformat": 4,
 "nbformat_minor": 2
}
