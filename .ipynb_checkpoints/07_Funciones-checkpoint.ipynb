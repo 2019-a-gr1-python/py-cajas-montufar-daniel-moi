{
 "cells": [
  {
   "cell_type": "code",
   "execution_count": 10,
   "metadata": {},
   "outputs": [
    {
     "ename": "SyntaxError",
     "evalue": "invalid syntax (<ipython-input-10-cb1af2d529a1>, line 1)",
     "output_type": "error",
     "traceback": [
      "\u001b[1;36m  File \u001b[1;32m\"<ipython-input-10-cb1af2d529a1>\"\u001b[1;36m, line \u001b[1;32m1\u001b[0m\n\u001b[1;33m    def hola mundo():\u001b[0m\n\u001b[1;37m                 ^\u001b[0m\n\u001b[1;31mSyntaxError\u001b[0m\u001b[1;31m:\u001b[0m invalid syntax\n"
     ]
    }
   ],
   "source": [
    "def hola mundo():\n",
    "    print('Hola Mundo')"
   ]
  },
  {
   "cell_type": "code",
   "execution_count": 11,
   "metadata": {},
   "outputs": [
    {
     "name": "stdout",
     "output_type": "stream",
     "text": [
      "Hola Mundo\n"
     ]
    }
   ],
   "source": [
    "hola_mundo()"
   ]
  },
  {
   "cell_type": "code",
   "execution_count": 5,
   "metadata": {},
   "outputs": [],
   "source": [
    "def hola_mundo():\n",
    "    print('Hola Mundo')"
   ]
  },
  {
   "cell_type": "code",
   "execution_count": 13,
   "metadata": {},
   "outputs": [
    {
     "data": {
      "text/plain": [
       "<function __main__.hola_mundo()>"
      ]
     },
     "execution_count": 13,
     "metadata": {},
     "output_type": "execute_result"
    }
   ],
   "source": [
    "hola_mundo"
   ]
  },
  {
   "cell_type": "code",
   "execution_count": 12,
   "metadata": {},
   "outputs": [
    {
     "data": {
      "text/plain": [
       "function"
      ]
     },
     "execution_count": 12,
     "metadata": {},
     "output_type": "execute_result"
    }
   ],
   "source": [
    "type(hola_mundo)"
   ]
  },
  {
   "cell_type": "code",
   "execution_count": 9,
   "metadata": {},
   "outputs": [],
   "source": []
  },
  {
   "cell_type": "code",
   "execution_count": 4,
   "metadata": {},
   "outputs": [],
   "source": [
    "def sumar_dos_numeros(num_uno,num_dos): #Parametros Requeridos\n",
    "    return num_uno + num_dos"
   ]
  },
  {
   "cell_type": "code",
   "execution_count": 5,
   "metadata": {},
   "outputs": [
    {
     "name": "stdout",
     "output_type": "stream",
     "text": [
      "3\n",
      "<class 'int'>\n"
     ]
    }
   ],
   "source": [
    "print (sumar_dos_numeros(1,2))\n",
    "print(type(sumar_dos_numeros(1,2)))"
   ]
  },
  {
   "cell_type": "code",
   "execution_count": 6,
   "metadata": {},
   "outputs": [],
   "source": [
    "def imprimir_universidad(nombre ='EPN'): #Parametros Opc\n",
    "    print(f\"Universidades:{nombre}\")"
   ]
  },
  {
   "cell_type": "code",
   "execution_count": 7,
   "metadata": {},
   "outputs": [
    {
     "name": "stdout",
     "output_type": "stream",
     "text": [
      "Universidades:EPN\n"
     ]
    }
   ],
   "source": [
    "imprimir_universidad()"
   ]
  },
  {
   "cell_type": "code",
   "execution_count": 8,
   "metadata": {},
   "outputs": [
    {
     "name": "stdout",
     "output_type": "stream",
     "text": [
      "Universidades:ESPE\n"
     ]
    }
   ],
   "source": [
    "imprimir_universidad('ESPE')"
   ]
  },
  {
   "cell_type": "code",
   "execution_count": 14,
   "metadata": {},
   "outputs": [],
   "source": [
    "def imprimir_carro(color,placa,hp,anio):\n",
    "    print(f\"Color: {color}\")\n",
    "    print(f\"Placa: {placa}\")\n",
    "    print(f\"Caballos de Fuerza: {hp}\")\n",
    "    print(f\"Anio: {anio}\")"
   ]
  },
  {
   "cell_type": "code",
   "execution_count": 16,
   "metadata": {},
   "outputs": [
    {
     "name": "stdout",
     "output_type": "stream",
     "text": [
      "Color: Azul\n",
      "Placa: PIK-0912\n",
      "Caballos de Fuerza: 3000.0\n",
      "Anio: 2015\n"
     ]
    }
   ],
   "source": [
    "imprimir_carro('Azul','PIK-0912',3000.00,2015)"
   ]
  },
  {
   "cell_type": "code",
   "execution_count": 21,
   "metadata": {},
   "outputs": [
    {
     "name": "stdout",
     "output_type": "stream",
     "text": [
      "Color: negro\n",
      "Placa: PIG-1010\n",
      "Caballos de Fuerza: 2000.0\n",
      "Anio: 1992\n"
     ]
    }
   ],
   "source": [
    "# Named Parameters\n",
    "imprimir_carro(color='negro',\n",
    "             placa=\"PIG-1010\",\n",
    "             hp=2000.00,\n",
    "             anio =1992 )"
   ]
  },
  {
   "cell_type": "code",
   "execution_count": 32,
   "metadata": {},
   "outputs": [],
   "source": [
    "def sumar_numeros(primer_numero, *numeros): #Parametros Infinitos\n",
    "    print(type(primer_numero))\n",
    "    print(type(numeros))\n",
    "    print(primer_numero)\n",
    "    total = 0\n",
    "    for numero in numeros:\n",
    "        print(f\"Numero:{numero}\")\n",
    "        total += numero\n",
    "        return primer_numero + total"
   ]
  },
  {
   "cell_type": "code",
   "execution_count": 34,
   "metadata": {},
   "outputs": [
    {
     "name": "stdout",
     "output_type": "stream",
     "text": [
      "<class 'int'>\n",
      "<class 'tuple'>\n",
      "1\n",
      "Numero:2\n"
     ]
    },
    {
     "data": {
      "text/plain": [
       "3"
      ]
     },
     "execution_count": 34,
     "metadata": {},
     "output_type": "execute_result"
    }
   ],
   "source": [
    "sumar_numeros(1,2)"
   ]
  },
  {
   "cell_type": "code",
   "execution_count": 44,
   "metadata": {},
   "outputs": [],
   "source": [
    "def libreria(nombre,conexion, **key_word_arguments):\n",
    "    print(f\"Nombre:{nombre}\")\n",
    "    print(f\"Conexion:{conexion}\")\n",
    "    for key in key_word_arguments.keys():\n",
    "        print(f\"{key.capitalize()}:{key_word_arguments[key]}\")\n",
    "        \n",
    "    \n",
    "    "
   ]
  },
  {
   "cell_type": "code",
   "execution_count": 45,
   "metadata": {},
   "outputs": [
    {
     "name": "stdout",
     "output_type": "stream",
     "text": [
      "Nombre:JS\n",
      "Conexion:192.168.0.1\n",
      "Puerto:3000\n",
      "Version:1.0\n"
     ]
    }
   ],
   "source": [
    "libreria('JS','192.168.0.1',puerto=3000, version='1.0')"
   ]
  },
  {
   "cell_type": "code",
   "execution_count": 35,
   "metadata": {},
   "outputs": [],
   "source": [
    "def funcion_completa(requerido,\n",
    "                     opcional='valor',\n",
    "                     *infinitos,\n",
    "                        **kwargs):\n",
    "    print(f'Requerido:{requerido}')\n",
    "    print(f'Opcional:{opcional}')\n",
    "    for x in infinitos:\n",
    "        print(f\"Infinito: {x}\")\n",
    "    for key in kwargs.keys():\n",
    "        print(f\"{key.capitalize()}:{kwargs[key]}\")\n",
    "    "
   ]
  },
  {
   "cell_type": "code",
   "execution_count": 36,
   "metadata": {},
   "outputs": [
    {
     "name": "stdout",
     "output_type": "stream",
     "text": [
      "Requerido:1\n",
      "Opcional:opcional\n",
      "Infinito: 1\n",
      "Infinito: 2\n",
      "Infinito: 3\n",
      "Infinito: 4\n",
      "Infinito: 5\n",
      "Infinito: 6\n",
      "Valor:Valor\n",
      "Llave:Llave\n"
     ]
    }
   ],
   "source": [
    "funcion_completa(1,'opcional',\n",
    "                1,2,3,4,5,6,\n",
    "                valor='Valor',\n",
    "                llave='Llave')"
   ]
  },
  {
   "cell_type": "code",
   "execution_count": null,
   "metadata": {},
   "outputs": [],
   "source": []
  }
 ],
 "metadata": {
  "kernelspec": {
   "display_name": "Python 3",
   "language": "python",
   "name": "python3"
  },
  "language_info": {
   "codemirror_mode": {
    "name": "ipython",
    "version": 3
   },
   "file_extension": ".py",
   "mimetype": "text/x-python",
   "name": "python",
   "nbconvert_exporter": "python",
   "pygments_lexer": "ipython3",
   "version": "3.7.3"
  }
 },
 "nbformat": 4,
 "nbformat_minor": 2
}
