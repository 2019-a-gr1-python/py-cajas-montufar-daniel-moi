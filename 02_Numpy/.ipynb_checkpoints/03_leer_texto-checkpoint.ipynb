{
 "cells": [
  {
   "cell_type": "code",
   "execution_count": 1,
   "metadata": {},
   "outputs": [],
   "source": [
    "import numpy as np"
   ]
  },
  {
   "cell_type": "code",
   "execution_count": 10,
   "metadata": {},
   "outputs": [],
   "source": [
    "path = './data/salarios.csv'\n",
    "arreglo_salarios = np.genfromtxt(path,delimiter =',')"
   ]
  },
  {
   "cell_type": "code",
   "execution_count": 11,
   "metadata": {},
   "outputs": [
    {
     "data": {
      "text/plain": [
       "array([[ 200.,  250.,  300.,  350.,  500.,  800., 1000., 1200.],\n",
       "       [ 100.,   50.,  500.,  450.,  200.,  600., 9000., 1100.],\n",
       "       [ 100.,   50.,  500.,  450.,  200.,  600., 9000., 1100.],\n",
       "       [ 100.,   50.,  500.,  450.,  200.,  600., 9000., 1100.],\n",
       "       [ 100.,   50.,  500.,  450.,  200.,  600., 9000., 1100.],\n",
       "       [ 100.,   50.,  500.,  450.,  200.,  600., 9000., 1100.],\n",
       "       [ 100.,   50.,  500.,  450.,  200.,  600., 9000., 1100.]])"
      ]
     },
     "execution_count": 11,
     "metadata": {},
     "output_type": "execute_result"
    }
   ],
   "source": [
    "arreglo_salarios"
   ]
  },
  {
   "cell_type": "code",
   "execution_count": 16,
   "metadata": {},
   "outputs": [
    {
     "data": {
      "text/plain": [
       "array([[  242. ,   302.5,   363. ,   423.5,   605. ,   968. ,  1210. ,\n",
       "         1452. ],\n",
       "       [  121. ,    60.5,   605. ,   544.5,   242. ,   726. , 10890. ,\n",
       "         1331. ],\n",
       "       [  121. ,    60.5,   605. ,   544.5,   242. ,   726. , 10890. ,\n",
       "         1331. ],\n",
       "       [  121. ,    60.5,   605. ,   544.5,   242. ,   726. , 10890. ,\n",
       "         1331. ],\n",
       "       [  121. ,    60.5,   605. ,   544.5,   242. ,   726. , 10890. ,\n",
       "         1331. ],\n",
       "       [  121. ,    60.5,   605. ,   544.5,   242. ,   726. , 10890. ,\n",
       "         1331. ],\n",
       "       [  121. ,    60.5,   605. ,   544.5,   242. ,   726. , 10890. ,\n",
       "         1331. ]])"
      ]
     },
     "execution_count": 16,
     "metadata": {},
     "output_type": "execute_result"
    }
   ],
   "source": [
    "arreglo_salarios =arreglo_salarios * 1.1\n",
    "arreglo_salarios"
   ]
  },
  {
   "cell_type": "code",
   "execution_count": 18,
   "metadata": {},
   "outputs": [],
   "source": [
    "np.savetxt(path,arreglo_salarios, delimiter = \";\",fmt=2)"
   ]
  },
  {
   "cell_type": "code",
   "execution_count": null,
   "metadata": {},
   "outputs": [],
   "source": []
  }
 ],
 "metadata": {
  "kernelspec": {
   "display_name": "Python 3",
   "language": "python",
   "name": "python3"
  },
  "language_info": {
   "codemirror_mode": {
    "name": "ipython",
    "version": 3
   },
   "file_extension": ".py",
   "mimetype": "text/x-python",
   "name": "python",
   "nbconvert_exporter": "python",
   "pygments_lexer": "ipython3",
   "version": "3.7.1"
  }
 },
 "nbformat": 4,
 "nbformat_minor": 2
}
