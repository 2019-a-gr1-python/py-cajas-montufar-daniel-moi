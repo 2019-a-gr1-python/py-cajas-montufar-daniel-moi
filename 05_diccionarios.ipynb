{
 "cells": [
  {
   "cell_type": "code",
   "execution_count": 14,
   "metadata": {},
   "outputs": [],
   "source": [
    "# JSON -> Diccionario\n",
    "isssac = 'Issac'\n",
    "adrian = {\n",
    "    'nombre': 'Adrian',\n",
    "    'apellido': 'Eguez',\n",
    "    'issac':isssac,\n",
    "    'edad': 29,\n",
    "    'hijos': None,\n",
    "    'casado': False,\n",
    "    'sueldo': 12.2,\n",
    "    'mascotas': [\n",
    "        {\n",
    "            'nombre':'Cachetes',\n",
    "            'edad':3\n",
    "        }\n",
    "    ],\n",
    "    'carro':(0,1,2)\n",
    "}"
   ]
  },
  {
   "cell_type": "code",
   "execution_count": null,
   "metadata": {},
   "outputs": [],
   "source": []
  }
 ],
 "metadata": {
  "kernelspec": {
   "display_name": "Python 3",
   "language": "python",
   "name": "python3"
  },
  "language_info": {
   "codemirror_mode": {
    "name": "ipython",
    "version": 3
   },
   "file_extension": ".py",
   "mimetype": "text/x-python",
   "name": "python",
   "nbconvert_exporter": "python",
   "pygments_lexer": "ipython3",
   "version": "3.7.1"
  }
 },
 "nbformat": 4,
 "nbformat_minor": 2
}
